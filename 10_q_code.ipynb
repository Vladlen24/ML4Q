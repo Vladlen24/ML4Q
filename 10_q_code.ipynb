{
 "cells": [
  {
   "cell_type": "code",
   "execution_count": 1,
   "metadata": {},
   "outputs": [],
   "source": [
    "from qiskit import QuantumRegister, ClassicalRegister, QuantumCircuit, transpile\n",
    "from qiskit.quantum_info import Statevector\n",
    "from qiskit.quantum_info.states import Statevector, partial_trace\n",
    "from qiskit.quantum_info import state_fidelity\n",
    "from qiskit.visualization import plot_state_qsphere, plot_state_city\n",
    "from qiskit.visualization import plot_histogram\n",
    "from qiskit import Aer, execute\n",
    "from qiskit.circuit.add_control import add_control\n",
    "import numpy as np\n",
    "import random\n",
    "import matplotlib.pyplot as plt\n",
    "from tqdm import tqdm\n",
    "import pandas as pd"
   ]
  },
  {
   "cell_type": "code",
   "execution_count": 29,
   "metadata": {},
   "outputs": [],
   "source": [
    "Stabilizers = {\n",
    "    \"K1\": {\"X\": [0,1,2,3,7], \"Y\": [], \"Z\": []},\n",
    "    \"K2\": {\"X\": [1,2,4,5,8], \"Y\": [], \"Z\": []},\n",
    "    \"K3\": {\"X\": [2,3,5,6,9], \"Y\": [], \"Z\": []},\n",
    "    \"K4\": {\"X\": [], \"Y\": [], \"Z\": [0,1,2,3]},\n",
    "    \"K5\": {\"X\": [], \"Y\": [], \"Z\": [1,2,4,5]},\n",
    "    \"K6\": {\"X\": [], \"Y\": [], \"Z\": [2,3,5,6]},\n",
    "    \"K7\": {\"X\": [], \"Y\": [], \"Z\": [2,5,7]},\n",
    "    \"K8\": {\"X\": [], \"Y\": [], \"Z\": [1,2,9]},\n",
    "    \"K9\": {\"X\": [], \"Y\": [], \"Z\": [2,3,8]}\n",
    "}"
   ]
  },
  {
   "cell_type": "code",
   "execution_count": null,
   "metadata": {},
   "outputs": [],
   "source": []
  },
  {
   "cell_type": "code",
   "execution_count": 3,
   "metadata": {},
   "outputs": [],
   "source": [
    "# CORRECTION\n",
    "def correction_z(circuit, creg):\n",
    "\n",
    "    with circuit.if_test((creg[0], 0)) as else_:\n",
    "        with circuit.if_test((creg[1], 0)):\n",
    "            with circuit.if_test((creg[2], 1)):\n",
    "                print(\"Warning: error in 6 or 9 qubit (uncorrectable)!\")\n",
    "        with circuit.if_test((creg[1], 1)):\n",
    "            with circuit.if_test((creg[2], 0)):\n",
    "                print(\"Warning: error in 4 or 8 qubit (uncorrectable)!\")\n",
    "            with circuit.if_test((creg[2], 1)):\n",
    "                circuit.z(5)\n",
    "    with else_:\n",
    "        with circuit.if_test((creg[1], 0)):\n",
    "            with circuit.if_test((creg[2], 0)):\n",
    "                print(\"Warning: error in 0 or 7 qubit (uncorrectable)!\")\n",
    "            with circuit.if_test((creg[2], 1)):\n",
    "                circuit.z(3)\n",
    "        with circuit.if_test((creg[1], 1)):\n",
    "            with circuit.if_test((creg[2], 0)):\n",
    "                circuit.z(1)\n",
    "            with circuit.if_test((creg[2], 1)):\n",
    "                circuit.z(2)\n",
    "\n",
    "    return circuit"
   ]
  },
  {
   "cell_type": "code",
   "execution_count": 4,
   "metadata": {},
   "outputs": [],
   "source": [
    "# creating STABILIZER\n",
    "@staticmethod\n",
    "def stabilizer(qcirc, stblzr_name, ctrl_index):\n",
    "    \n",
    "    X = Stabilizers[stblzr_name][\"X\"]\n",
    "    Y = Stabilizers[stblzr_name][\"Y\"]\n",
    "    Z = Stabilizers[stblzr_name][\"Z\"]\n",
    "    if len(X) != 0:\n",
    "        qcirc.cx(ctrl_index, X)\n",
    "    if len(Y) != 0:\n",
    "        qcirc.cy(ctrl_index, Y)\n",
    "    if len(Z) != 0:\n",
    "        qcirc.cz(ctrl_index, Z)\n",
    "    qcirc.barrier() \n",
    "\n",
    "    return qcirc"
   ]
  },
  {
   "cell_type": "code",
   "execution_count": 5,
   "metadata": {},
   "outputs": [],
   "source": [
    "# state PREPARATION\n",
    "def initialize_qubit(qc1, cl_p, num_qubits, num_anclq):\n",
    "\n",
    "    qc1.h(range(num_qubits, num_qubits + num_anclq))\n",
    "    for i in range(num_anclq):\n",
    "        stabilizer(qc1, f'K{1+i}', num_qubits + i)      # X-stabilizers\n",
    "    qc1.h(range(num_qubits, num_qubits + num_anclq))\n",
    "    qc1.measure([10, 11, 12], [10, 11, 12])     # Measurement M{1-3}\n",
    "    correction_z(qc1, cl_p)     # Correction_Z\n",
    "\n",
    "    return qc1"
   ]
  },
  {
   "cell_type": "code",
   "execution_count": 26,
   "metadata": {},
   "outputs": [
    {
     "name": "stdout",
     "output_type": "stream",
     "text": [
      "Warning: error in 6 or 9 qubit (uncorrectable)!\n",
      "Warning: error in 4 or 8 qubit (uncorrectable)!\n",
      "Warning: error in 0 or 7 qubit (uncorrectable)!\n",
      "Warning: error in 6 or 9 qubit (uncorrectable)!\n",
      "Warning: error in 4 or 8 qubit (uncorrectable)!\n",
      "Warning: error in 0 or 7 qubit (uncorrectable)!\n"
     ]
    },
    {
     "data": {
      "text/plain": [
       "<qiskit.circuit.instructionset.InstructionSet at 0x26c144fbe50>"
      ]
     },
     "execution_count": 26,
     "metadata": {},
     "output_type": "execute_result"
    }
   ],
   "source": [
    "num_qubits = 10\n",
    "phys_qubits = QuantumRegister(num_qubits, 'q')\n",
    "num_anclq = 3\n",
    "prepare_q = QuantumRegister(num_anclq, 'p')\n",
    "ancila_z = QuantumRegister(num_anclq, 'a_z')\n",
    "# ancila_x = QuantumRegister(num_anclq, 'a_x')\n",
    "cl_data = ClassicalRegister(num_qubits, 'c_data')\n",
    "cl_p = ClassicalRegister(num_anclq, 'c_p')\n",
    "cl_z = ClassicalRegister(num_anclq, 'c_z')\n",
    "# cl_x = ClassicalRegister(num_anclq, 'c_x')\n",
    "# qc = QuantumCircuit(phys_qubits, prepare_q, ancila_z, ancila_x, cl_data, cl_p, cl_z, cl_x)\n",
    "qc = QuantumCircuit(phys_qubits, prepare_q, ancila_z, cl_data, cl_p, cl_z)\n",
    "\n",
    "# -----------------------------Initialization\n",
    "initialize_qubit(qc, cl_p, num_qubits, num_anclq)\n",
    "qc.barrier() \n",
    "\n",
    "#------------------------------ERROR\n",
    "qc.x([])\n",
    "qc.barrier() \n",
    "\n",
    "#------------------------------CORRECTION\n",
    "qc.h(range(num_qubits + num_anclq, num_qubits + 2*num_anclq))\n",
    "\n",
    "# X-stabilizers\n",
    "for i in range(num_anclq):\n",
    "    stabilizer(qc, f'K{1+i}', num_qubits + num_anclq + i)\n",
    "\n",
    "qc.h(range(num_qubits + num_anclq, num_qubits + 2*num_anclq))\n",
    "\n",
    "# Measurement M{1-3}\n",
    "qc.measure(ancila_z, cl_z)\n",
    "\n",
    "# Correction_Z\n",
    "correction_z(qc, cl_z)\n",
    "qc.barrier() \n",
    "\n",
    "#---------------------------------------------\n",
    "# qc.h(range(num_qubits + 2*num_anclq, num_qubits + 3*num_anclq))\n",
    "\n",
    "# # Z-stabilizers\n",
    "# for i in range(num_anclq, 2*num_anclq):\n",
    "#     stabilizer(qc, f'K{1+i}', num_qubits + num_anclq + i)\n",
    "\n",
    "# qc.h(range(num_qubits + 2*num_anclq, num_qubits + 3*num_anclq))\n",
    "\n",
    "# # Measurement M{4-6}\n",
    "# qc.measure(ancila_x, cl_x)\n",
    "\n",
    "# # Correction_X\n",
    "# correction_x(qc, cl_x)\n",
    "# qc.barrier() \n",
    "#---------------------------------------------\n",
    "\n",
    "qc.measure(phys_qubits, cl_data)"
   ]
  },
  {
   "cell_type": "code",
   "execution_count": 27,
   "metadata": {},
   "outputs": [],
   "source": [
    "shots_num = 1000\n",
    "backend = Aer.get_backend('aer_simulator_statevector')\n",
    "circuit_transpiled = transpile(qc, backend)\n",
    "job = backend.run(circuit_transpiled, shots=shots_num, dynamic=True)"
   ]
  },
  {
   "cell_type": "code",
   "execution_count": 28,
   "metadata": {},
   "outputs": [
    {
     "name": "stdout",
     "output_type": "stream",
     "text": [
      "{'0011011001': 119, '0110110010': 129, '0101101011': 120, '0000000000': 131, '1001110110': 115, '1111000100': 137, '1010101111': 114, '1100011101': 135}\n"
     ]
    },
    {
     "data": {
      "image/png": "[encoded data removed]",
      "text/plain": [
       "<Figure size 1000x500 with 1 Axes>"
      ]
     },
     "metadata": {},
     "output_type": "display_data"
    }
   ],
   "source": [
    "result = job.result().get_counts(qc)\n",
    "arr = [elem[::-1][:10] for elem in list(result.keys())]\n",
    "arr_unik_keys = list(set(arr))\n",
    "arr_values = list(result.values())\n",
    "arr_unik_values = []\n",
    "for elem in arr_unik_keys:\n",
    "    suma = 0\n",
    "    suma = sum(val for key, val in zip(arr, arr_values) if key == elem)\n",
    "    arr_unik_values.append(suma)\n",
    "state_prob = dict(zip(arr_unik_keys, arr_unik_values))\n",
    "print(state_prob)\n",
    "\n",
    "plt.figure(figsize=(10,5))\n",
    "plt.bar(arr_unik_keys, arr_unik_values)\n",
    "# plt.savefig(\"10q_logical_1.jpg\")"
   ]
  },
  {
   "cell_type": "code",
   "execution_count": 13,
   "metadata": {},
   "outputs": [
    {
     "data": {
      "text/plain": [
       "['1100011101',\n",
       " '0011011001',\n",
       " '0110110010',\n",
       " '0101101011',\n",
       " '1001110110',\n",
       " '1111000100',\n",
       " '1010101111',\n",
       " '0000000000']"
      ]
     },
     "execution_count": 13,
     "metadata": {},
     "output_type": "execute_result"
    }
   ],
   "source": [
    "arr_unik_keys"
   ]
  },
  {
   "cell_type": "code",
   "execution_count": null,
   "metadata": {},
   "outputs": [],
   "source": [
    "logical_0 = ['1100011101', '0011011001', '0110110010', '0101101011', '1001110110', '1111000100', '1010101111', '0000000000']\n",
    "logical_1 = "
   ]
  }
 ],
 "metadata": {
  "kernelspec": {
   "display_name": "Python 3",
   "language": "python",
   "name": "python3"
  },
  "language_info": {
   "codemirror_mode": {
    "name": "ipython",
    "version": 3
   },
   "file_extension": ".py",
   "mimetype": "text/x-python",
   "name": "python",
   "nbconvert_exporter": "python",
   "pygments_lexer": "ipython3",
   "version": "3.11.2"
  },
  "orig_nbformat": 4
 },
 "nbformat": 4,
 "nbformat_minor": 2
}
