{
 "cells": [
  {
   "cell_type": "code",
   "execution_count": 1,
   "metadata": {},
   "outputs": [],
   "source": [
    "from qiskit import QuantumCircuit\n",
    "from qiskit.quantum_info import Statevector\n",
    "from qiskit.quantum_info import state_fidelity\n",
    "from qiskit.visualization import plot_state_qsphere\n",
    "from qiskit.visualization import plot_histogram\n",
    "from qiskit import Aer, execute\n",
    "from qiskit import QuantumRegister, ClassicalRegister\n",
    "from qiskit.circuit.add_control import add_control\n",
    "import numpy as np"
   ]
  },
  {
   "cell_type": "markdown",
   "metadata": {},
   "source": [
    "Here I'm training on Stean [7,1,3]-code (in stabiliser formalism)\n",
    "\n",
    "*initializing\n",
    "\n",
    "*adding error\n",
    "\n",
    "*syndrom finding\n",
    "\n",
    "*mearsument\n",
    "\n",
    "*correction erros"
   ]
  },
  {
   "cell_type": "code",
   "execution_count": null,
   "metadata": {},
   "outputs": [],
   "source": [
    "# Need to write function for general measurement scheme"
   ]
  },
  {
   "cell_type": "code",
   "execution_count": 2,
   "metadata": {},
   "outputs": [],
   "source": [
    "def initialize_qubit(given_circuit, qubit_index):\n",
    "    \n",
    "    custom_state = [np.sqrt(0.7), np.sqrt(0.3)]\n",
    "    given_circuit.initialize(custom_state, qubit_index)\n",
    "    \n",
    "    return given_circuit"
   ]
  },
  {
   "cell_type": "code",
   "execution_count": 2,
   "metadata": {},
   "outputs": [],
   "source": [
    "# K1 = IIIXXXX\n",
    "# K2 = XIXIXIX\n",
    "# K3 = IXXIIXX\n",
    "# K4 = IIIZZZZ\n",
    "# K5 = ZIZIZIZ\n",
    "# K6 = IZZIIZZ\n",
    "\n",
    "Stabilizers = {\n",
    "    \"K1\": {\"X\": [3, 4, 5, 6], \"Y\": [], \"Z\": []},\n",
    "    \"K2\": {\"X\": [0, 2, 4, 6], \"Y\": [], \"Z\": []},\n",
    "    \"K3\": {\"X\": [1, 2, 5, 6], \"Y\": [], \"Z\": []},\n",
    "    \"K4\": {\"X\": [], \"Y\": [], \"Z\": [3, 4, 5, 6]},\n",
    "    \"K5\": {\"X\": [], \"Y\": [], \"Z\": [0, 2, 4, 6]},\n",
    "    \"K6\": {\"X\": [], \"Y\": [], \"Z\": [1, 2, 5, 6]},\n",
    "}\n",
    "\n",
    "# Lookuptable = {\n",
    "#     0: {\"value\": [4,5,6],\n",
    "#         0: {\"value\": [4,5],\n",
    "#             0: {\"value\": [6]},\n",
    "#             1: {\"value\": []}\n",
    "#         },\n",
    "#         1: {\"value\": [6],\n",
    "#             0: {\"value\": [5]},\n",
    "#             1: {\"value\": [4]}\n",
    "#         }\n",
    "#     },\n",
    "#     1: {\"value\": [0,1,2,3],\n",
    "#         0: {\"value\": [1,2],\n",
    "#             0: {\"value\": [3]},\n",
    "#             1: {\"value\": [0]}\n",
    "#         },\n",
    "#         1: {\"value\": [0,3],\n",
    "#             0: {\"value\": [2]},\n",
    "#             1: {\"value\": [1]}\n",
    "#         }\n",
    "#     }\n",
    "# }\n",
    "\n",
    "Lookuptable = [\n",
    "    \"010\",\n",
    "    \"001\",\n",
    "    \"011\",\n",
    "    \"100\",\n",
    "    \"110\",\n",
    "    \"101\",\n",
    "    \"111\"\n",
    "]"
   ]
  },
  {
   "cell_type": "code",
   "execution_count": 3,
   "metadata": {},
   "outputs": [
    {
     "data": {
      "text/plain": [
       "{'Error': 'Syndrome',\n",
       " 'Z0': [0, 1, 0, 0, 0, 0],\n",
       " 'Z1': [0, 0, 1, 0, 0, 0],\n",
       " 'Z2': [0, 1, 1, 0, 0, 0],\n",
       " 'Z3': [1, 0, 0, 0, 0, 0],\n",
       " 'Z4': [1, 1, 0, 0, 0, 0],\n",
       " 'Z5': [1, 0, 1, 0, 0, 0],\n",
       " 'Z6': [1, 1, 1, 0, 0, 0],\n",
       " 'X0': [0, 0, 0, 0, 1, 0],\n",
       " 'X1': [0, 0, 0, 0, 0, 1],\n",
       " 'X2': [0, 0, 0, 0, 1, 1],\n",
       " 'X3': [0, 0, 0, 1, 0, 0],\n",
       " 'X4': [0, 0, 0, 1, 1, 0],\n",
       " 'X5': [0, 0, 0, 1, 0, 1],\n",
       " 'X6': [0, 0, 0, 1, 1, 1]}"
      ]
     },
     "execution_count": 3,
     "metadata": {},
     "output_type": "execute_result"
    }
   ],
   "source": [
    "# create LOOKUPTABLE\n",
    "def sngl_er_lookuptable(numb_qubits):\n",
    "\n",
    "    Lookup_matrix = np.zeros((2*numb_qubits, len(Stabilizers)), dtype=int)\n",
    "    for i in range(len(Stabilizers)):\n",
    "        a = Stabilizers[f'K{1+i}'][\"X\"]\n",
    "        b = Stabilizers[f'K{1+i}'][\"Z\"]\n",
    "        if len(a) != 0:\n",
    "            for j in a:\n",
    "                Lookup_matrix[j][i] = 1\n",
    "        if len(b) != 0:\n",
    "            for j in b:\n",
    "                Lookup_matrix[numb_qubits + j][i] = 1\n",
    "\n",
    "    lookuptable = {'Error': 'Syndrome'}\n",
    "    for i in range(numb_qubits):\n",
    "        lookuptable[f'Z{i}'] = list(Lookup_matrix[i])\n",
    "    for i in range(numb_qubits):\n",
    "        lookuptable[f'X{i}'] = list(Lookup_matrix[numb_qubits + i])\n",
    "    \n",
    "    return lookuptable\n",
    "\n",
    "sngl_er_lookuptable(7)"
   ]
  },
  {
   "cell_type": "code",
   "execution_count": 4,
   "metadata": {},
   "outputs": [],
   "source": [
    "# CORRECTION\n",
    "def correction_z(qcirc, clbits_z):\n",
    "\n",
    "    for i in range(len(Lookuptable)):\n",
    "        qcirc.z(i).c_if(clbits_z, eval(\"0b\"+Lookuptable[i]))\n",
    "\n",
    "    return qcirc\n",
    "\n",
    "\n",
    "def correction_x(qcirc, clbits_x):\n",
    "\n",
    "    for i in range(len(Lookuptable)):\n",
    "        qcirc.x(i).c_if(clbits_x, eval(\"0b\"+Lookuptable[i]))\n",
    "\n",
    "    return qcirc\n"
   ]
  },
  {
   "cell_type": "code",
   "execution_count": 5,
   "metadata": {},
   "outputs": [],
   "source": [
    "# creating STABILIZER\n",
    "@staticmethod\n",
    "def stabilizer(qcirc, stblzr_name, ctrl_index):\n",
    "    \n",
    "    X = Stabilizers[stblzr_name][\"X\"]\n",
    "    Y = Stabilizers[stblzr_name][\"Y\"]\n",
    "    Z = Stabilizers[stblzr_name][\"Z\"]\n",
    "    if len(X) != 0:\n",
    "        qcirc.cx(ctrl_index, X)\n",
    "    if len(Y) != 0:\n",
    "        qcirc.cy(ctrl_index, Y)\n",
    "    if len(Z) != 0:\n",
    "        qcirc.cz(ctrl_index, Z)\n",
    "    qcirc.barrier() \n",
    "\n",
    "    return qcirc\n",
    "    "
   ]
  },
  {
   "cell_type": "code",
   "execution_count": 10,
   "metadata": {},
   "outputs": [],
   "source": [
    "# state PREPARATION\n",
    "def initialize_qubit(num_qubits, num_anclq):\n",
    "    \n",
    "    data = Statevector.from_label('0000000')\n",
    "    phys_qubits = QuantumRegister(num_qubits, 'q')\n",
    "    ancila_z = QuantumRegister(num_anclq, 'a_z')\n",
    "    cl_z = ClassicalRegister(num_anclq, 'c_z')\n",
    "    qc1 = QuantumCircuit(phys_qubits, ancila_z, cl_z)\n",
    "\n",
    "    qc1.h(range(num_qubits, num_qubits + num_anclq))\n",
    "    for i in range(num_anclq):\n",
    "        stabilizer(qc1, f'K{1+i}', num_qubits + i)      # X-stabilizers\n",
    "    qc1.h(range(num_qubits, num_qubits + num_anclq))\n",
    "    qc1.measure(ancila_z, cl_z)     # Measurement M{1-3}\n",
    "    correction_z(qc1, cl_z)     # Correction_Z\n",
    "\n",
    "    return (qc1, data.evolve(qc1, qargs=list(range(0,7))))"
   ]
  },
  {
   "cell_type": "code",
   "execution_count": 57,
   "metadata": {},
   "outputs": [],
   "source": [
    "# CHECK prepared state is correct\n",
    "def check_prepare(state):\n",
    "    counts = state.sample_counts(shots=1000)\n",
    "    plot_histogram(counts)"
   ]
  },
  {
   "cell_type": "code",
   "execution_count": 11,
   "metadata": {},
   "outputs": [
    {
     "ename": "IndexError",
     "evalue": "list index out of range",
     "output_type": "error",
     "traceback": [
      "\u001b[1;31m---------------------------------------------------------------------------\u001b[0m",
      "\u001b[1;31mIndexError\u001b[0m                                Traceback (most recent call last)",
      "Cell \u001b[1;32mIn[11], line 14\u001b[0m\n\u001b[0;32m     11\u001b[0m data \u001b[39m=\u001b[39m Statevector\u001b[39m.\u001b[39mfrom_label(\u001b[39m'\u001b[39m\u001b[39m0000000\u001b[39m\u001b[39m'\u001b[39m)\n\u001b[0;32m     12\u001b[0m \u001b[39m# anc_z_state = Statevector.from_label('000')\u001b[39;00m\n\u001b[0;32m     13\u001b[0m \u001b[39m# anc_x_state = Statevector.from_label('000')\u001b[39;00m\n\u001b[1;32m---> 14\u001b[0m prepare_qc, data \u001b[39m=\u001b[39m initialize_qubit(num_qubits, num_anclq)\n\u001b[0;32m     15\u001b[0m counts \u001b[39m=\u001b[39m data\u001b[39m.\u001b[39msample_counts(shots\u001b[39m=\u001b[39m\u001b[39m10000\u001b[39m)\n\u001b[0;32m     16\u001b[0m plot_histogram(counts)\n",
      "Cell \u001b[1;32mIn[10], line 17\u001b[0m, in \u001b[0;36minitialize_qubit\u001b[1;34m(num_qubits, num_anclq)\u001b[0m\n\u001b[0;32m     14\u001b[0m qc1\u001b[39m.\u001b[39mmeasure(\u001b[39mlist\u001b[39m(\u001b[39mrange\u001b[39m(\u001b[39m7\u001b[39m,\u001b[39m10\u001b[39m)), cl_z)     \u001b[39m# Measurement M{1-3}\u001b[39;00m\n\u001b[0;32m     15\u001b[0m correction_z(qc1, cl_z)     \u001b[39m# Correction_Z\u001b[39;00m\n\u001b[1;32m---> 17\u001b[0m \u001b[39mreturn\u001b[39;00m (qc1, data\u001b[39m.\u001b[39;49mevolve(qc1, qargs\u001b[39m=\u001b[39;49m\u001b[39mlist\u001b[39;49m(\u001b[39mrange\u001b[39;49m(\u001b[39m0\u001b[39;49m,\u001b[39m7\u001b[39;49m))))\n",
      "File \u001b[1;32mc:\\Users\\Vladlen\\AppData\\Local\\Programs\\Python\\Python311\\Lib\\site-packages\\qiskit\\quantum_info\\states\\statevector.py:386\u001b[0m, in \u001b[0;36mStatevector.evolve\u001b[1;34m(self, other, qargs)\u001b[0m\n\u001b[0;32m    384\u001b[0m     \u001b[39mif\u001b[39;00m \u001b[39mself\u001b[39m\u001b[39m.\u001b[39mnum_qubits \u001b[39mis\u001b[39;00m \u001b[39mNone\u001b[39;00m:\n\u001b[0;32m    385\u001b[0m         \u001b[39mraise\u001b[39;00m QiskitError(\u001b[39m\"\u001b[39m\u001b[39mCannot apply QuantumCircuit to non-qubit Statevector.\u001b[39m\u001b[39m\"\u001b[39m)\n\u001b[1;32m--> 386\u001b[0m     \u001b[39mreturn\u001b[39;00m \u001b[39mself\u001b[39;49m\u001b[39m.\u001b[39;49m_evolve_instruction(ret, other, qargs\u001b[39m=\u001b[39;49mqargs)\n\u001b[0;32m    388\u001b[0m \u001b[39m# Evolution by an Operator\u001b[39;00m\n\u001b[0;32m    389\u001b[0m \u001b[39mif\u001b[39;00m \u001b[39mnot\u001b[39;00m \u001b[39misinstance\u001b[39m(other, Operator):\n",
      "File \u001b[1;32mc:\\Users\\Vladlen\\AppData\\Local\\Programs\\Python\\Python311\\Lib\\site-packages\\qiskit\\quantum_info\\states\\statevector.py:946\u001b[0m, in \u001b[0;36mStatevector._evolve_instruction\u001b[1;34m(statevec, obj, qargs)\u001b[0m\n\u001b[0;32m    944\u001b[0m         new_qargs \u001b[39m=\u001b[39m [qubits[tup] \u001b[39mfor\u001b[39;00m tup \u001b[39min\u001b[39;00m instruction\u001b[39m.\u001b[39mqubits]\n\u001b[0;32m    945\u001b[0m     \u001b[39melse\u001b[39;00m:\n\u001b[1;32m--> 946\u001b[0m         new_qargs \u001b[39m=\u001b[39m [qargs[qubits[tup]] \u001b[39mfor\u001b[39;49;00m tup \u001b[39min\u001b[39;49;00m instruction\u001b[39m.\u001b[39;49mqubits]\n\u001b[0;32m    947\u001b[0m     Statevector\u001b[39m.\u001b[39m_evolve_instruction(statevec, instruction\u001b[39m.\u001b[39moperation, qargs\u001b[39m=\u001b[39mnew_qargs)\n\u001b[0;32m    948\u001b[0m \u001b[39mreturn\u001b[39;00m statevec\n",
      "File \u001b[1;32mc:\\Users\\Vladlen\\AppData\\Local\\Programs\\Python\\Python311\\Lib\\site-packages\\qiskit\\quantum_info\\states\\statevector.py:946\u001b[0m, in \u001b[0;36m<listcomp>\u001b[1;34m(.0)\u001b[0m\n\u001b[0;32m    944\u001b[0m         new_qargs \u001b[39m=\u001b[39m [qubits[tup] \u001b[39mfor\u001b[39;00m tup \u001b[39min\u001b[39;00m instruction\u001b[39m.\u001b[39mqubits]\n\u001b[0;32m    945\u001b[0m     \u001b[39melse\u001b[39;00m:\n\u001b[1;32m--> 946\u001b[0m         new_qargs \u001b[39m=\u001b[39m [qargs[qubits[tup]] \u001b[39mfor\u001b[39;00m tup \u001b[39min\u001b[39;00m instruction\u001b[39m.\u001b[39mqubits]\n\u001b[0;32m    947\u001b[0m     Statevector\u001b[39m.\u001b[39m_evolve_instruction(statevec, instruction\u001b[39m.\u001b[39moperation, qargs\u001b[39m=\u001b[39mnew_qargs)\n\u001b[0;32m    948\u001b[0m \u001b[39mreturn\u001b[39;00m statevec\n",
      "\u001b[1;31mIndexError\u001b[0m: list index out of range"
     ]
    }
   ],
   "source": [
    "num_qubits = 7\n",
    "phys_qubits = QuantumRegister(num_qubits, 'q')\n",
    "num_anclq = 3\n",
    "ancila_z = QuantumRegister(num_anclq, 'a_z')\n",
    "ancila_x = QuantumRegister(num_anclq, 'a_x')\n",
    "cl_z = ClassicalRegister(num_anclq, 'c_z')\n",
    "cl_x = ClassicalRegister(num_anclq, 'c_x')\n",
    "qc = QuantumCircuit(phys_qubits, ancila_z, ancila_x, cl_z, cl_x)\n",
    "\n",
    "# Initialization -----------------------------\n",
    "data = Statevector.from_label('0000000')\n",
    "# anc_z_state = Statevector.from_label('000')\n",
    "# anc_x_state = Statevector.from_label('000')\n",
    "prepare_qc, data = initialize_qubit(num_qubits, num_anclq)\n",
    "counts = data.sample_counts(shots=10000)\n",
    "plot_histogram(counts)\n",
    "# prepare_qc.draw('mpl')\n",
    "# qc.barrier() \n",
    "#---------------------------------------------\n",
    "\n",
    "# qc.h(range(num_qubits, num_qubits + num_anclq))\n",
    "\n",
    "# # X-stabilizers\n",
    "# for i in range(num_anclq):\n",
    "#     stabilizer(qc, f'K{1+i}', num_qubits + i)\n",
    "\n",
    "# qc.h(range(num_qubits, num_qubits + num_anclq))\n",
    "\n",
    "# # Measurement M{1-3}\n",
    "# qc.measure(ancila_z, cl_z)\n",
    "\n",
    "# # Correction_Z\n",
    "# correction_z(qc, cl_z)\n",
    "# qc.barrier() \n",
    "# #---------------------------------------------\n",
    "\n",
    "# qc.h(range(num_qubits + num_anclq, num_qubits + 2*num_anclq))\n",
    "\n",
    "# # Z-stabilizers\n",
    "# for i in range(num_anclq, 2*num_anclq):\n",
    "#     stabilizer(qc, f'K{1+i}', num_qubits + i)\n",
    "\n",
    "# qc.h(range(num_qubits + num_anclq, num_qubits + 2*num_anclq))\n",
    "\n",
    "# # Measurement M{4-6}\n",
    "# qc.measure(ancila_x, cl_x)\n",
    "\n",
    "# # Correction_X\n",
    "# correction_x(qc, cl_x)\n",
    "# qc.barrier() \n",
    "#---------------------------------------------\n",
    "# qc.draw('mpl')"
   ]
  },
  {
   "cell_type": "code",
   "execution_count": null,
   "metadata": {},
   "outputs": [],
   "source": []
  }
 ],
 "metadata": {
  "kernelspec": {
   "display_name": "Python 3",
   "language": "python",
   "name": "python3"
  },
  "language_info": {
   "codemirror_mode": {
    "name": "ipython",
    "version": 3
   },
   "file_extension": ".py",
   "mimetype": "text/x-python",
   "name": "python",
   "nbconvert_exporter": "python",
   "pygments_lexer": "ipython3",
   "version": "3.11.2"
  },
  "orig_nbformat": 4
 },
 "nbformat": 4,
 "nbformat_minor": 2
}
